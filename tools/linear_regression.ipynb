{
 "cells": [
  {
   "cell_type": "code",
   "execution_count": 1,
   "metadata": {},
   "outputs": [
    {
     "name": "stdout",
     "output_type": "stream",
     "text": [
      "Requirement already satisfied: numpy in c:\\users\\capts\\appdata\\local\\programs\\python\\python310\\lib\\site-packages (1.21.4)\n",
      "Note: you may need to restart the kernel to use updated packages.\n"
     ]
    },
    {
     "name": "stderr",
     "output_type": "stream",
     "text": [
      "WARNING: You are using pip version 21.2.3; however, version 22.3 is available.\n",
      "You should consider upgrading via the 'c:\\Users\\capts\\AppData\\Local\\Programs\\Python\\Python310\\python.exe -m pip install --upgrade pip' command.\n"
     ]
    },
    {
     "name": "stdout",
     "output_type": "stream",
     "text": [
      "Requirement already satisfied: matplotlib in c:\\users\\capts\\appdata\\local\\programs\\python\\python310\\lib\\site-packages (3.4.3)\n",
      "Requirement already satisfied: cycler>=0.10 in c:\\users\\capts\\appdata\\local\\programs\\python\\python310\\lib\\site-packages (from matplotlib) (0.11.0)\n",
      "Requirement already satisfied: kiwisolver>=1.0.1 in c:\\users\\capts\\appdata\\local\\programs\\python\\python310\\lib\\site-packages (from matplotlib) (1.3.2)\n",
      "Requirement already satisfied: numpy>=1.16 in c:\\users\\capts\\appdata\\local\\programs\\python\\python310\\lib\\site-packages (from matplotlib) (1.21.4)\n",
      "Requirement already satisfied: pillow>=6.2.0 in c:\\users\\capts\\appdata\\local\\programs\\python\\python310\\lib\\site-packages (from matplotlib) (8.4.0)\n",
      "Requirement already satisfied: pyparsing>=2.2.1 in c:\\users\\capts\\appdata\\local\\programs\\python\\python310\\lib\\site-packages (from matplotlib) (3.0.6)\n",
      "Requirement already satisfied: python-dateutil>=2.7 in c:\\users\\capts\\appdata\\local\\programs\\python\\python310\\lib\\site-packages (from matplotlib) (2.8.2)\n",
      "Requirement already satisfied: six>=1.5 in c:\\users\\capts\\appdata\\local\\programs\\python\\python310\\lib\\site-packages (from python-dateutil>=2.7->matplotlib) (1.16.0)\n",
      "Note: you may need to restart the kernel to use updated packages.\n"
     ]
    },
    {
     "name": "stderr",
     "output_type": "stream",
     "text": [
      "WARNING: You are using pip version 21.2.3; however, version 22.3 is available.\n",
      "You should consider upgrading via the 'c:\\Users\\capts\\AppData\\Local\\Programs\\Python\\Python310\\python.exe -m pip install --upgrade pip' command.\n"
     ]
    }
   ],
   "source": [
    "%pip install numpy\n",
    "%pip install matplotlib"
   ]
  },
  {
   "cell_type": "code",
   "execution_count": 2,
   "metadata": {},
   "outputs": [],
   "source": [
    "import numpy as np\n",
    "import matplotlib.pyplot as mat"
   ]
  },
  {
   "cell_type": "code",
   "execution_count": 3,
   "metadata": {},
   "outputs": [],
   "source": [
    "x = np.array([\n",
    "    46,\n",
    "    54,\n",
    "    64,\n",
    "    77,\n",
    "    # 86,\n",
    "    90,\n",
    "    101,\n",
    "    112,\n",
    "])\n",
    "\n",
    "y = np.array([\n",
    "    95,\n",
    "    101,\n",
    "    109,\n",
    "    119,\n",
    "    # 125,\n",
    "    129,\n",
    "    140,\n",
    "    149,\n",
    "])\n",
    "\n",
    "A = np.vstack([x, np.ones(len(x))]).T"
   ]
  },
  {
   "cell_type": "code",
   "execution_count": 13,
   "metadata": {},
   "outputs": [],
   "source": [
    "m, c = np.linalg.lstsq(A, y, rcond=None)[0]\n"
   ]
  },
  {
   "cell_type": "code",
   "execution_count": 10,
   "metadata": {},
   "outputs": [
    {
     "data": {
      "image/png": "[encoded data removed]",
      "text/plain": [
       "<Figure size 432x288 with 1 Axes>"
      ]
     },
     "metadata": {
      "needs_background": "light"
     },
     "output_type": "display_data"
    },
    {
     "name": "stdout",
     "output_type": "stream",
     "text": [
      "Generated Equation: y = (0.8179919615414933 * x) + 56.71605327448965\n",
      "Test Result: 134.42528962093152\n"
     ]
    }
   ],
   "source": [
    "input_distance = 95\n",
    "output_distance = m * input_distance + c\n",
    "\n",
    "_ = mat.plot(x, y, 'o', label='Original data', markersize=10)\n",
    "_ = mat.plot(input_distance, output_distance, 'o',\n",
    "             label='Projected Distance', markersize=10)\n",
    "_ = mat.plot(x, m*x + c, 'r', label='Fitted line')\n",
    "_ = mat.legend()\n",
    "mat.show()\n",
    "\n",
    "\n",
    "print(\"Generated Equation: y = \" + \"(\" + str(m) + \" * x) + \" + str(c))\n",
    "print(\"Test Result: \" + str(output_distance))\n"
   ]
  }
 ],
 "metadata": {
  "kernelspec": {
   "display_name": "Python 3.10.0 64-bit",
   "language": "python",
   "name": "python3"
  },
  "language_info": {
   "codemirror_mode": {
    "name": "ipython",
    "version": 3
   },
   "file_extension": ".py",
   "mimetype": "text/x-python",
   "name": "python",
   "nbconvert_exporter": "python",
   "pygments_lexer": "ipython3",
   "version": "3.10.0"
  },
  "orig_nbformat": 4,
  "vscode": {
   "interpreter": {
    "hash": "54d1c0913463ae09ed5e3e9ff31aeb14f3482114646da835b63b1fa15c03b821"
   }
  }
 },
 "nbformat": 4,
 "nbformat_minor": 2
}
