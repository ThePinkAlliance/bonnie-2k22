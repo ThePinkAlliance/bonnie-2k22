{
 "cells": [
  {
   "cell_type": "markdown",
   "metadata": {},
   "source": [
    "Before we get started lets install the required programs first!\n",
    "\n",
    "- Python 3.9.6\n",
    "- Pip 21.1.3 (Included with Python 3.9.6)\n",
    "\n",
    "Then after those are installed we need to run this command to install all the libraries necessary for our juypter notebooks.\n"
   ]
  },
  {
   "cell_type": "code",
   "execution_count": 13,
   "metadata": {},
   "outputs": [
    {
     "name": "stdout",
     "output_type": "stream",
     "text": [
      "Requirement already satisfied: matplotlib in c:\\users\\capts\\appdata\\local\\programs\\python\\python39\\lib\\site-packages (3.4.3)\n",
      "Requirement already satisfied: numpy in c:\\users\\capts\\appdata\\local\\programs\\python\\python39\\lib\\site-packages (1.19.5)\n",
      "Requirement already satisfied: cycler>=0.10 in c:\\users\\capts\\appdata\\local\\programs\\python\\python39\\lib\\site-packages (from matplotlib) (0.11.0)\n",
      "Requirement already satisfied: pillow>=6.2.0 in c:\\users\\capts\\appdata\\local\\programs\\python\\python39\\lib\\site-packages (from matplotlib) (8.4.0)\n",
      "Requirement already satisfied: pyparsing>=2.2.1 in c:\\users\\capts\\appdata\\local\\programs\\python\\python39\\lib\\site-packages (from matplotlib) (2.4.7)\n",
      "Requirement already satisfied: kiwisolver>=1.0.1 in c:\\users\\capts\\appdata\\local\\programs\\python\\python39\\lib\\site-packages (from matplotlib) (1.3.2)\n",
      "Requirement already satisfied: python-dateutil>=2.7 in c:\\users\\capts\\appdata\\local\\programs\\python\\python39\\lib\\site-packages (from matplotlib) (2.8.2)\n",
      "Requirement already satisfied: six>=1.5 in c:\\users\\capts\\appdata\\local\\programs\\python\\python39\\lib\\site-packages (from python-dateutil>=2.7->matplotlib) (1.15.0)\n",
      "Note: you may need to restart the kernel to use updated packages.\n"
     ]
    },
    {
     "name": "stderr",
     "output_type": "stream",
     "text": [
      "WARNING: You are using pip version 21.1.3; however, version 22.3 is available.\n",
      "You should consider upgrading via the 'c:\\Users\\capts\\AppData\\Local\\Programs\\Python\\Python39\\python.exe -m pip install --upgrade pip' command.\n"
     ]
    }
   ],
   "source": [
    "%pip install matplotlib numpy"
   ]
  },
  {
   "cell_type": "code",
   "execution_count": 14,
   "metadata": {},
   "outputs": [],
   "source": [
    "import matplotlib.pyplot as plt\n",
    "import numpy as np\n"
   ]
  },
  {
   "cell_type": "markdown",
   "metadata": {},
   "source": [
    "The `x` and `y` arrays makeup a linear interpolation table."
   ]
  },
  {
   "cell_type": "code",
   "execution_count": 15,
   "metadata": {},
   "outputs": [],
   "source": [
    "x = [\n",
    "  46,\n",
    "  54,\n",
    "  64,\n",
    "  77,\n",
    "  # 86,\n",
    "  90,\n",
    "  101,\n",
    "  112,\n",
    "]\n",
    "\n",
    "y = [\n",
    "  95,\n",
    "  101,\n",
    "  109,\n",
    "  119,\n",
    "  # 125,\n",
    "  129,\n",
    "  140,\n",
    "  149,\n",
    "]"
   ]
  },
  {
   "cell_type": "markdown",
   "metadata": {},
   "source": [
    "When you select the run all button it will run all the cells containing code and after they all run\n",
    "it will display scatter plot to allow for easy analysis of the linear table to determine if its linear enough."
   ]
  },
  {
   "cell_type": "code",
   "execution_count": 23,
   "metadata": {},
   "outputs": [
    {
     "data": {
      "image/png": "[encoded data removed]",
      "text/plain": [
       "<Figure size 432x288 with 1 Axes>"
      ]
     },
     "metadata": {
      "needs_background": "light"
     },
     "output_type": "display_data"
    }
   ],
   "source": [
    "def plot(x: list[int], y: list[int]):\n",
    "  _x = np.array(x)\n",
    "  _y = np.array(y)\n",
    "  \n",
    "  # Stacks the x array vertically row wise\n",
    "  a = np.vstack([_x, np.ones(len(_x))]).T\n",
    "  m, c = np.linalg.lstsq(a, _y, rcond=None)[0]\n",
    "  \n",
    "  fig, ax = plt.subplots()\n",
    "  ax.plot(_x, m*_x + c, 'r', label='Fitted line')\n",
    "  ax.legend()\n",
    "  ax.scatter(_x, _y)\n",
    "\n",
    "  plt.show()\n",
    "\n",
    "plot(x,y)\n",
    "  "
   ]
  },
  {
   "cell_type": "code",
   "execution_count": 24,
   "metadata": {},
   "outputs": [
    {
     "name": "stdout",
     "output_type": "stream",
     "text": [
      "90\n",
      "96\n",
      "104\n",
      "114\n",
      "124\n",
      "135\n",
      "144\n"
     ]
    }
   ],
   "source": [
    "# Shifting the values down 5\n",
    "m = 5\n",
    "\n",
    "for i, v in enumerate(y):\n",
    "  print(v - m)\n",
    "  y[i] = v - m"
   ]
  },
  {
   "cell_type": "code",
   "execution_count": null,
   "metadata": {},
   "outputs": [
    {
     "ename": "IndexError",
     "evalue": "list index out of range",
     "output_type": "error",
     "traceback": [
      "\u001b[1;31m---------------------------------------------------------------------------\u001b[0m",
      "\u001b[1;31mIndexError\u001b[0m                                Traceback (most recent call last)",
      "\u001b[1;32mc:\\Users\\capts\\Desktop\\code\\FRC\\greg-bot-2k22\\tools\\linear_interpolation.ipynb Cell 9\u001b[0m in \u001b[0;36m<cell line: 4>\u001b[1;34m()\u001b[0m\n\u001b[0;32m      <a href='vscode-notebook-cell:/c%3A/Users/capts/Desktop/code/FRC/greg-bot-2k22/tools/linear_interpolation.ipynb#X11sZmlsZQ%3D%3D?line=3'>4</a>\u001b[0m \u001b[39mfor\u001b[39;00m i, c_y \u001b[39min\u001b[39;00m \u001b[39menumerate\u001b[39m(y):\n\u001b[0;32m      <a href='vscode-notebook-cell:/c%3A/Users/capts/Desktop/code/FRC/greg-bot-2k22/tools/linear_interpolation.ipynb#X11sZmlsZQ%3D%3D?line=4'>5</a>\u001b[0m   c_x \u001b[39m=\u001b[39m x[i]\n\u001b[1;32m----> <a href='vscode-notebook-cell:/c%3A/Users/capts/Desktop/code/FRC/greg-bot-2k22/tools/linear_interpolation.ipynb#X11sZmlsZQ%3D%3D?line=5'>6</a>\u001b[0m   n_y \u001b[39m=\u001b[39m y[i\u001b[39m+\u001b[39;49m\u001b[39m1\u001b[39;49m]\n\u001b[0;32m      <a href='vscode-notebook-cell:/c%3A/Users/capts/Desktop/code/FRC/greg-bot-2k22/tools/linear_interpolation.ipynb#X11sZmlsZQ%3D%3D?line=6'>7</a>\u001b[0m   n_x \u001b[39m=\u001b[39m x[i\u001b[39m+\u001b[39m\u001b[39m1\u001b[39m]\n\u001b[0;32m      <a href='vscode-notebook-cell:/c%3A/Users/capts/Desktop/code/FRC/greg-bot-2k22/tools/linear_interpolation.ipynb#X11sZmlsZQ%3D%3D?line=8'>9</a>\u001b[0m   \u001b[39mif\u001b[39;00m n_y \u001b[39m!=\u001b[39m \u001b[39mNone\u001b[39;00m \u001b[39mand\u001b[39;00m n_x \u001b[39m!=\u001b[39m \u001b[39mNone\u001b[39;00m:\n",
      "\u001b[1;31mIndexError\u001b[0m: list index out of range"
     ]
    }
   ],
   "source": [
    "total = 0\n",
    "slopes = []\n",
    "\n",
    "for i, c_y in enumerate(y):\n",
    "  c_x = x[i]\n",
    "  n_y = y[i+1]\n",
    "  n_x = x[i+1]\n",
    "  \n",
    "  if n_y != None and n_x != None:\n",
    "    slope = (n_y - c_y) / (n_x - c_x)\n",
    "    slopes.append (slope)\n",
    "    total += slope\n",
    "    \n",
    "  \n",
    "  # for s in slopes:\n",
    "  #   print(s)\n",
    "    \n",
    "print(\"Average: \" + str(total / len(slopes)))"
   ]
  }
 ],
 "metadata": {
  "kernelspec": {
   "display_name": "Python 3.9.6 64-bit",
   "language": "python",
   "name": "python3"
  },
  "language_info": {
   "codemirror_mode": {
    "name": "ipython",
    "version": 3
   },
   "file_extension": ".py",
   "mimetype": "text/x-python",
   "name": "python",
   "nbconvert_exporter": "python",
   "pygments_lexer": "ipython3",
   "version": "3.9.6"
  },
  "orig_nbformat": 4,
  "vscode": {
   "interpreter": {
    "hash": "266715ccc4630b7d909424434041f2992f9605be2340c3f4e83678cbea216170"
   }
  }
 },
 "nbformat": 4,
 "nbformat_minor": 2
}
